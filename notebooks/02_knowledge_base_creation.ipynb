{
  "nbformat": 4,
  "nbformat_minor": 0,
  "metadata": {
    "colab": {
      "provenance": [],
      "authorship_tag": "ABX9TyPZ2k2w4Qx6p/FZKpATYfuy",
      "include_colab_link": true
    },
    "kernelspec": {
      "name": "python3",
      "display_name": "Python 3"
    },
    "language_info": {
      "name": "python"
    }
  },
  "cells": [
    {
      "cell_type": "markdown",
      "metadata": {
        "id": "view-in-github",
        "colab_type": "text"
      },
      "source": [
        "<a href=\"https://colab.research.google.com/github/DilkiSandunika/VGTU_Thesis_Project/blob/main/notebooks/02_knowledge_base_creation.ipynb\" target=\"_parent\"><img src=\"https://colab.research.google.com/assets/colab-badge.svg\" alt=\"Open In Colab\"/></a>"
      ]
    },
    {
      "cell_type": "code",
      "execution_count": 1,
      "metadata": {
        "id": "MDJZXHdk2xdb",
        "colab": {
          "base_uri": "https://localhost:8080/",
          "height": 540
        },
        "outputId": "90a71d82-7e46-4bf4-abd8-fd37758e149d"
      },
      "outputs": [
        {
          "output_type": "stream",
          "name": "stdout",
          "text": [
            "Installing required libraries for vector database creation...\n",
            "Libraries installed successfully.\n",
            "Unzipping /content/knowledge_base.zip...\n",
            "replace /content/knowledge_base/compliance_rules.txt? [y]es, [n]o, [A]ll, [N]one, [r]ename: Y\n",
            "replace /content/knowledge_base/template_guide.txt? [y]es, [n]o, [A]ll, [N]one, [r]ename: Y\n",
            "Setup complete. Knowledge base is ready.\n",
            "Loaded 11 individual rules/guidelines from the knowledge base.\n",
            "\n",
            "--- Knowledge Base Content ---\n",
            "- Rule 101: All functional requirements must explicitly state the user role involved (e.g., 'the admin', 'the user', 'the officer').\n",
            "- Rule 102: Any requirement handling personally identifiable information (PII) or sensitive data must mention encryption or secure handling.\n",
            "- Rule 103: The system shall use role-based access control for any function that creates, modifies, or deletes data.\n",
            "- Rule 104: Requirements must be written in a clear, active voice (e.g., \"The system shall do X\" not \"X should be done\").\n",
            "- Rule 105: Each requirement must be atomic, meaning it describes a single, verifiable function.\n",
            "- All extracted functional requirements must strictly follow one of these formats:\n",
            "- The <system name> shall <system response>.\n",
            "- WHILE <in a specific state> the <system name> shall <system response>.\n",
            "- WHEN <trigger> <optional precondition> the <system name> shall <system response>.\n",
            "- WHERE <feature is included> the <system name> shall <system response>.\n",
            "- IF <unwanted condition or event>, THEN the <system name> shall <system response>.\n",
            "\n",
            "Loading sentence transformer model (this may take a moment)...\n",
            "Converting knowledge base text into numerical vectors (embeddings)...\n",
            "Embeddings created successfully. Shape of embeddings matrix: (11, 384)\n",
            "\n",
            "FAISS index built successfully with 11 vectors.\n",
            "Vector DB and document list have been saved to the '/content/processed_db/' directory.\n",
            "\n",
            "Triggering download of the created vector database files...\n"
          ]
        },
        {
          "output_type": "display_data",
          "data": {
            "text/plain": [
              "<IPython.core.display.Javascript object>"
            ],
            "application/javascript": [
              "\n",
              "    async function download(id, filename, size) {\n",
              "      if (!google.colab.kernel.accessAllowed) {\n",
              "        return;\n",
              "      }\n",
              "      const div = document.createElement('div');\n",
              "      const label = document.createElement('label');\n",
              "      label.textContent = `Downloading \"${filename}\": `;\n",
              "      div.appendChild(label);\n",
              "      const progress = document.createElement('progress');\n",
              "      progress.max = size;\n",
              "      div.appendChild(progress);\n",
              "      document.body.appendChild(div);\n",
              "\n",
              "      const buffers = [];\n",
              "      let downloaded = 0;\n",
              "\n",
              "      const channel = await google.colab.kernel.comms.open(id);\n",
              "      // Send a message to notify the kernel that we're ready.\n",
              "      channel.send({})\n",
              "\n",
              "      for await (const message of channel.messages) {\n",
              "        // Send a message to notify the kernel that we're ready.\n",
              "        channel.send({})\n",
              "        if (message.buffers) {\n",
              "          for (const buffer of message.buffers) {\n",
              "            buffers.push(buffer);\n",
              "            downloaded += buffer.byteLength;\n",
              "            progress.value = downloaded;\n",
              "          }\n",
              "        }\n",
              "      }\n",
              "      const blob = new Blob(buffers, {type: 'application/binary'});\n",
              "      const a = document.createElement('a');\n",
              "      a.href = window.URL.createObjectURL(blob);\n",
              "      a.download = filename;\n",
              "      div.appendChild(a);\n",
              "      a.click();\n",
              "      div.remove();\n",
              "    }\n",
              "  "
            ]
          },
          "metadata": {}
        },
        {
          "output_type": "display_data",
          "data": {
            "text/plain": [
              "<IPython.core.display.Javascript object>"
            ],
            "application/javascript": [
              "download(\"download_76edc271-bf38-4e17-a18b-0d303fd2eaa0\", \"knowledge_base.index\", 16941)"
            ]
          },
          "metadata": {}
        },
        {
          "output_type": "display_data",
          "data": {
            "text/plain": [
              "<IPython.core.display.Javascript object>"
            ],
            "application/javascript": [
              "\n",
              "    async function download(id, filename, size) {\n",
              "      if (!google.colab.kernel.accessAllowed) {\n",
              "        return;\n",
              "      }\n",
              "      const div = document.createElement('div');\n",
              "      const label = document.createElement('label');\n",
              "      label.textContent = `Downloading \"${filename}\": `;\n",
              "      div.appendChild(label);\n",
              "      const progress = document.createElement('progress');\n",
              "      progress.max = size;\n",
              "      div.appendChild(progress);\n",
              "      document.body.appendChild(div);\n",
              "\n",
              "      const buffers = [];\n",
              "      let downloaded = 0;\n",
              "\n",
              "      const channel = await google.colab.kernel.comms.open(id);\n",
              "      // Send a message to notify the kernel that we're ready.\n",
              "      channel.send({})\n",
              "\n",
              "      for await (const message of channel.messages) {\n",
              "        // Send a message to notify the kernel that we're ready.\n",
              "        channel.send({})\n",
              "        if (message.buffers) {\n",
              "          for (const buffer of message.buffers) {\n",
              "            buffers.push(buffer);\n",
              "            downloaded += buffer.byteLength;\n",
              "            progress.value = downloaded;\n",
              "          }\n",
              "        }\n",
              "      }\n",
              "      const blob = new Blob(buffers, {type: 'application/binary'});\n",
              "      const a = document.createElement('a');\n",
              "      a.href = window.URL.createObjectURL(blob);\n",
              "      a.download = filename;\n",
              "      div.appendChild(a);\n",
              "      a.click();\n",
              "      div.remove();\n",
              "    }\n",
              "  "
            ]
          },
          "metadata": {}
        },
        {
          "output_type": "display_data",
          "data": {
            "text/plain": [
              "<IPython.core.display.Javascript object>"
            ],
            "application/javascript": [
              "download(\"download_1864535e-cd75-4434-813c-43b98731e27a\", \"knowledge_base_docs.pkl\", 1068)"
            ]
          },
          "metadata": {}
        }
      ],
      "source": [
        "# ===================================================================\n",
        "# CELL 1: Install Necessary Libraries\n",
        "# ===================================================================\n",
        "print(\"Installing required libraries for vector database creation...\")\n",
        "# faiss-cpu is for vector search, sentence-transformers is for creating the vectors\n",
        "!pip install faiss-cpu sentence-transformers -q\n",
        "print(\"Libraries installed successfully.\")\n",
        "\n",
        "\n",
        "# ===================================================================\n",
        "# CELL 2: Import Libraries and Unzip Data\n",
        "# ===================================================================\n",
        "import os\n",
        "import numpy as np\n",
        "import faiss\n",
        "from sentence_transformers import SentenceTransformer\n",
        "from google.colab import files\n",
        "import pickle # We will use pickle to save our list of documents\n",
        "\n",
        "# Define paths\n",
        "knowledge_base_zip_path = '/content/knowledge_base.zip'\n",
        "knowledge_base_dir = '/content/knowledge_base/'\n",
        "output_dir = '/content/processed_db/'\n",
        "\n",
        "# Unzip the knowledge base files\n",
        "print(f\"Unzipping {knowledge_base_zip_path}...\")\n",
        "!unzip -q {knowledge_base_zip_path} -d {knowledge_base_dir}\n",
        "\n",
        "# Create the output directory if it doesn't exist\n",
        "os.makedirs(output_dir, exist_ok=True)\n",
        "print(\"Setup complete. Knowledge base is ready.\")\n",
        "\n",
        "\n",
        "# ===================================================================\n",
        "# CELL 3: Load the Knowledge Documents\n",
        "# ===================================================================\n",
        "knowledge_base_docs = []\n",
        "\n",
        "# Loop through the files in the unzipped directory\n",
        "for filename in os.listdir(knowledge_base_dir):\n",
        "    if filename.endswith(\".txt\"):\n",
        "        filepath = os.path.join(knowledge_base_dir, filename)\n",
        "        with open(filepath, 'r', encoding='utf-8') as f:\n",
        "            # Read each line as a separate document/rule\n",
        "            for line in f:\n",
        "                if line.strip(): # Ensure the line is not empty\n",
        "                    knowledge_base_docs.append(line.strip())\n",
        "\n",
        "print(f\"Loaded {len(knowledge_base_docs)} individual rules/guidelines from the knowledge base.\")\n",
        "print(\"\\n--- Knowledge Base Content ---\")\n",
        "for doc in knowledge_base_docs:\n",
        "    print(f\"- {doc}\")\n",
        "\n",
        "\n",
        "# ===================================================================\n",
        "# CELL 4: Create Text Embeddings\n",
        "# ===================================================================\n",
        "print(\"\\nLoading sentence transformer model (this may take a moment)...\")\n",
        "# 'all-MiniLM-L6-v2' is a great general-purpose model\n",
        "model = SentenceTransformer('all-MiniLM-L6-v2')\n",
        "\n",
        "print(\"Converting knowledge base text into numerical vectors (embeddings)...\")\n",
        "# The .encode() method turns our list of sentences into a matrix of numbers\n",
        "embeddings = model.encode(knowledge_base_docs)\n",
        "print(f\"Embeddings created successfully. Shape of embeddings matrix: {embeddings.shape}\")\n",
        "\n",
        "\n",
        "# ===================================================================\n",
        "# CELL 5: Build and Save the FAISS Index and Document List\n",
        "# ===================================================================\n",
        "# Get the dimensionality of our vectors\n",
        "d = embeddings.shape[1]\n",
        "\n",
        "# Build a FAISS index. IndexFlatL2 is a standard, good-for-starters index.\n",
        "index = faiss.IndexFlatL2(d)\n",
        "\n",
        "# Add our document embeddings to the index\n",
        "index.add(embeddings.astype('float32')) # FAISS requires float32\n",
        "\n",
        "print(f\"\\nFAISS index built successfully with {index.ntotal} vectors.\")\n",
        "\n",
        "# --- CRUCIAL: Save both the index and the original documents ---\n",
        "# 1. Save the FAISS index\n",
        "faiss.write_index(index, os.path.join(output_dir, 'knowledge_base.index'))\n",
        "\n",
        "# 2. Save the list of documents, so we can retrieve the original text later\n",
        "with open(os.path.join(output_dir, 'knowledge_base_docs.pkl'), 'wb') as f:\n",
        "    pickle.dump(knowledge_base_docs, f)\n",
        "\n",
        "print(f\"Vector DB and document list have been saved to the '{output_dir}' directory.\")\n",
        "\n",
        "\n",
        "# ===================================================================\n",
        "# CELL 6: Download the Created Files (Optional)\n",
        "# ===================================================================\n",
        "print(\"\\nTriggering download of the created vector database files...\")\n",
        "files.download(os.path.join(output_dir, 'knowledge_base.index'))\n",
        "files.download(os.path.join(output_dir, 'knowledge_base_docs.pkl'))"
      ]
    }
  ]
}