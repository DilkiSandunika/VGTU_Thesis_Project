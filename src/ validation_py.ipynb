{
  "nbformat": 4,
  "nbformat_minor": 0,
  "metadata": {
    "colab": {
      "provenance": [],
      "authorship_tag": "ABX9TyMd3fqwR/obhVMwXJ15GmlQ",
      "include_colab_link": true
    },
    "kernelspec": {
      "name": "python3",
      "display_name": "Python 3"
    },
    "language_info": {
      "name": "python"
    }
  },
  "cells": [
    {
      "cell_type": "markdown",
      "metadata": {
        "id": "view-in-github",
        "colab_type": "text"
      },
      "source": [
        "<a href=\"https://colab.research.google.com/github/DilkiSandunika/VGTU_Thesis_Project/blob/main/src/%20validation_py.ipynb\" target=\"_parent\"><img src=\"https://colab.research.google.com/assets/colab-badge.svg\" alt=\"Open In Colab\"/></a>"
      ]
    },
    {
      "cell_type": "code",
      "source": [
        "# Inside src/validation.py\n",
        "\n",
        "def calculate_compliance_score(generated_text, retrieved_rules):\n",
        "    \"\"\"\n",
        "    Calculates a simple compliance score based on a set of rules.\n",
        "    Returns the score and a list of feedback notes.\n",
        "    \"\"\"\n",
        "    score = 0\n",
        "    total_possible_score = 0\n",
        "    feedback = []\n",
        "\n",
        "    # --- Rule Check 1: Check for the standard format ---\n",
        "    # Find the template guide in the retrieved rules\n",
        "    template_guide = next((rule for rule in retrieved_rules if \"format:\" in rule), None)\n",
        "    if template_guide:\n",
        "        total_possible_score += 1\n",
        "        if \"The system shall\" in generated_text and \"for the\" in generated_text:\n",
        "            score += 1\n",
        "            feedback.append(\"PASS: Requirement follows the standard 'The system shall...' format.\")\n",
        "        else:\n",
        "            feedback.append(\"FAIL: Requirement does not follow the standard format.\")\n",
        "\n",
        "    # --- Rule Check 2: Check for active voice ---\n",
        "    active_voice_rule = next((rule for rule in retrieved_rules if \"active voice\" in rule), None)\n",
        "    if active_voice_rule:\n",
        "        total_possible_score += 1\n",
        "        if \"should be\" not in generated_text:\n",
        "            score += 1\n",
        "            feedback.append(\"PASS: Requirement is written in an active voice.\")\n",
        "        else:\n",
        "            feedback.append(\"FAIL: Requirement may be in a passive voice (contains 'should be').\")\n",
        "\n",
        "    # --- Rule Check 3: Check for user role ---\n",
        "    user_role_rule = next((rule for rule in retrieved_rules if \"user role\" in rule), None)\n",
        "    if user_role_rule:\n",
        "        # This check is already covered by the format check, but we add it for completeness\n",
        "        # to show we are thinking about the rule.\n",
        "        total_possible_score += 1\n",
        "        if \"for the\" in generated_text:\n",
        "            score += 1\n",
        "            feedback.append(\"PASS: Requirement appears to specify a user role.\")\n",
        "        else:\n",
        "            feedback.append(\"FAIL: Requirement does not explicitly state a user role.\")\n",
        "\n",
        "    # Avoid division by zero if no rules were found\n",
        "    if total_possible_score == 0:\n",
        "        return \"N/A\", [\"No applicable rules found to score against.\"]\n",
        "\n",
        "    return f\"{score}/{total_possible_score}\", feedback\n",
        "```3.  In your `03_end_to_end_pipeline_demo.ipynb` notebook, import this function at the top: `from src.validation import calculate_compliance_score`."
      ],
      "metadata": {
        "id": "KMWwq1NeC_TS"
      },
      "execution_count": null,
      "outputs": []
    },
    {
      "cell_type": "code",
      "execution_count": null,
      "metadata": {
        "id": "7RR9sjAqCYTb"
      },
      "outputs": [],
      "source": []
    }
  ]
}